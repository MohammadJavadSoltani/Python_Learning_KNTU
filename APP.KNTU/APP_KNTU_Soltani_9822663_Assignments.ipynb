{
 "cells": [
  {
   "cell_type": "markdown",
   "id": "f8bab8ba",
   "metadata": {},
   "source": [
    "<img align=\"right\" src=\"./pic.JPG\"     style=\" width:180px; padding: 10px; \" > \n",
    "\n",
    "# $\\color{Blue}{\\text{Advance Programming Python}}$\n",
    "## $\\color{brown}{\\text{K.N.Toosi University of technology}}$\n",
    "## $\\color{brown}{\\text{Mohammad Javad Soltani 9822663}}$\n"
   ]
  },
  {
   "cell_type": "markdown",
   "id": "216f6df1",
   "metadata": {},
   "source": [
    "___"
   ]
  },
  {
   "cell_type": "markdown",
   "id": "e8acfaa9",
   "metadata": {},
   "source": [
    ">**- [ 1. First Assignment ](#1)**  \n",
    "\n"
   ]
  },
  {
   "cell_type": "markdown",
   "id": "516ea56b",
   "metadata": {},
   "source": [
    "___"
   ]
  },
  {
   "cell_type": "markdown",
   "id": "00b5883e",
   "metadata": {},
   "source": [
    "# $\\color{blue}{\\text{First_Assignments}}$ \n",
    "<a name=\"1\"></a>"
   ]
  },
  {
   "cell_type": "markdown",
   "id": "ac19eb51",
   "metadata": {},
   "source": [
    "$\\color{orange}{\\text{First_EXC}}$ "
   ]
  },
  {
   "cell_type": "code",
   "execution_count": 112,
   "id": "a562d29a",
   "metadata": {},
   "outputs": [],
   "source": [
    "def reverse(x):\n",
    "    num = int(x)\n",
    "    a = num%-10\n",
    "    num/=10\n",
    "    num = int(num)\n",
    "    b = num%-10\n",
    "    num/=10\n",
    "    num = int(num)\n",
    "    c = num%-10\n",
    "    print(a*100+b*10+c)"
   ]
  },
  {
   "cell_type": "code",
   "execution_count": 114,
   "id": "7e759529",
   "metadata": {},
   "outputs": [
    {
     "name": "stdout",
     "output_type": "stream",
     "text": [
      "-543\n"
     ]
    }
   ],
   "source": [
    "reverse(-345)"
   ]
  },
  {
   "cell_type": "markdown",
   "id": "79f078f9",
   "metadata": {},
   "source": [
    "$\\color{orange}{\\text{Secound_EXC}}$ "
   ]
  },
  {
   "cell_type": "code",
   "execution_count": 159,
   "id": "f52db77a",
   "metadata": {},
   "outputs": [],
   "source": [
    "my_dict = {'a':1, 'b':2, 'c':3, 'd':4}\n",
    "key_list = ['a', 'b']\n",
    "\n",
    "def searcher():\n",
    "    dict_k ={}\n",
    "    for i in range(len(key_list)):\n",
    "        if key_list[i] in my_dict.keys():\n",
    "            dict_k[key_list[i]] = 1 "
   ]
  },
  {
   "cell_type": "code",
   "execution_count": 160,
   "id": "af50cef6",
   "metadata": {
    "scrolled": true
   },
   "outputs": [
    {
     "data": {
      "text/plain": [
       "{'a': 1, 'b': 1}"
      ]
     },
     "execution_count": 160,
     "metadata": {},
     "output_type": "execute_result"
    }
   ],
   "source": [
    "searcher()\n",
    "dict_k"
   ]
  },
  {
   "cell_type": "markdown",
   "id": "bc30abeb",
   "metadata": {},
   "source": [
    "_:)_"
   ]
  }
 ],
 "metadata": {
  "kernelspec": {
   "display_name": "Python 3 (ipykernel)",
   "language": "python",
   "name": "python3"
  },
  "language_info": {
   "codemirror_mode": {
    "name": "ipython",
    "version": 3
   },
   "file_extension": ".py",
   "mimetype": "text/x-python",
   "name": "python",
   "nbconvert_exporter": "python",
   "pygments_lexer": "ipython3",
   "version": "3.10.4"
  },
  "toc": {
   "base_numbering": 1,
   "nav_menu": {},
   "number_sections": true,
   "sideBar": true,
   "skip_h1_title": false,
   "title_cell": "Table of Contents",
   "title_sidebar": "Contents",
   "toc_cell": false,
   "toc_position": {},
   "toc_section_display": true,
   "toc_window_display": false
  }
 },
 "nbformat": 4,
 "nbformat_minor": 5
}
