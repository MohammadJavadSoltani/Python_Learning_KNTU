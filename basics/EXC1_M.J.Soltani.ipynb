{
 "cells": [
  {
   "cell_type": "markdown",
   "id": "afd49e62",
   "metadata": {},
   "source": [
    "# $\\color{blue}{\\text{ Excersices:}}$\n",
    "##### $\\color{green}{\\text{ MohammadJavad Soltani }}$"
   ]
  },
  {
   "cell_type": "markdown",
   "id": "7609cb0c",
   "metadata": {},
   "source": [
    ">**$\\color{red}{\\text{1. Write a python program to detect integer numbers in a list of strings and cast them to int and print them}}$**     \n"
   ]
  },
  {
   "cell_type": "code",
   "execution_count": 1,
   "id": "1e7a9a4a",
   "metadata": {},
   "outputs": [
    {
     "data": {
      "text/plain": [
       "['11', '10']"
      ]
     },
     "execution_count": 1,
     "metadata": {},
     "output_type": "execute_result"
    }
   ],
   "source": [
    "def int_Detect(inp):\n",
    "    return [i for i in inp if i.isdigit()]\n",
    "int_Detect(['11', 'pooya', '10', '10.5'])"
   ]
  },
  {
   "cell_type": "markdown",
   "id": "951879ac",
   "metadata": {},
   "source": [
    ">**$\\color{red}{\\text{2. Write a Python program to print all even numbers from a given numbers list in the same order and stop the printing if any numbers that come after 237 in the sequence. Go to the editor}}$**     "
   ]
  },
  {
   "cell_type": "code",
   "execution_count": 2,
   "id": "587e8da5",
   "metadata": {},
   "outputs": [
    {
     "name": "stdout",
     "output_type": "stream",
     "text": [
      "24\n",
      "58\n",
      "104\n",
      "162\n",
      "236\n"
     ]
    }
   ],
   "source": [
    "import numpy as np\n",
    "\n",
    "def POdd(lst):\n",
    "    lst = np.sort(lst)\n",
    "    for i in lst:\n",
    "        if i % 2 == 0:\n",
    "            print(i)\n",
    "        if i>=237:\n",
    "            break\n",
    "                        \n",
    "a =  [386, 462, 47, 418, 907, 344, 236, 375, 823, 566, 597, 978, 328, 615, 953, 345, 399, 162, 758, 219, 918, 237, 412, 566, 826, 248, 866, 950, 626, 949, 687, 217, 815, 67, 104, 58, 512, 24, 892, 894, 767, 553, 81, 379, 843, 831, 445, 742, 717, 958,743, 527 ] \n",
    "POdd(a)"
   ]
  },
  {
   "cell_type": "markdown",
   "id": "5e50fed7",
   "metadata": {},
   "source": [
    ">**$\\color{red}{\\text{3.Write a Python program to sum of two given integers. However, if the sum is between 15 to 20 it will return 20.}}$**     "
   ]
  },
  {
   "cell_type": "code",
   "execution_count": 3,
   "id": "275684fd",
   "metadata": {},
   "outputs": [
    {
     "name": "stdout",
     "output_type": "stream",
     "text": [
      "4+5= 9\n",
      "12+5= 20 !!!!\n"
     ]
    }
   ],
   "source": [
    "def sum_kntu(x, y):\n",
    "    z = x + y\n",
    "    if z>15 and z<20:\n",
    "        return 20\n",
    "    else:\n",
    "        return z\n",
    "    \n",
    "print(\"4+5=\",sum_kntu(4,5))\n",
    "print(\"12+5=\",sum_kntu(12,5),\"!!!!\")"
   ]
  },
  {
   "cell_type": "markdown",
   "id": "d4e1735a",
   "metadata": {},
   "source": [
    ">**$\\color{red}{\\text{4. Write a Python program to count the members of a list and print them\n",
    "}}$**     "
   ]
  },
  {
   "cell_type": "code",
   "execution_count": 33,
   "id": "c303b604",
   "metadata": {},
   "outputs": [
    {
     "name": "stdout",
     "output_type": "stream",
     "text": [
      "1 >>> 3\n",
      "5 >>> 1\n",
      "6 >>> 1\n",
      "s >>> 2\n",
      "pooya >>> 1\n"
     ]
    }
   ],
   "source": [
    "def list_counter(lst):\n",
    "    import numpy as np\n",
    "    counts = [ [i,\">>>\",lst.count(i)]for i in set(lst) ]\n",
    "    for i in counts:\n",
    "        print(i[0],i[1],i[2])\n",
    "        \n",
    "a = [1,5,6,1,1,'s','s','pooya']\n",
    "list_counter(a)"
   ]
  }
 ],
 "metadata": {
  "kernelspec": {
   "display_name": "Python 3 (ipykernel)",
   "language": "python",
   "name": "python3"
  },
  "language_info": {
   "codemirror_mode": {
    "name": "ipython",
    "version": 3
   },
   "file_extension": ".py",
   "mimetype": "text/x-python",
   "name": "python",
   "nbconvert_exporter": "python",
   "pygments_lexer": "ipython3",
   "version": "3.10.4"
  }
 },
 "nbformat": 4,
 "nbformat_minor": 5
}
