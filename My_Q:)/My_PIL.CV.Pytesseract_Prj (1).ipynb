{
 "cells": [
  {
   "cell_type": "markdown",
   "id": "02d05d3d",
   "metadata": {},
   "source": [
    "### $\\color{Yellow}{\\text{Mohammad Javad Soltani}}$\n",
    "## To Do List \n",
    "\n",
    ">**0. Imports**  \n",
    "\n",
    ">**1. ZipFile** \n",
    "\n",
    ">**2. ZipFile** "
   ]
  },
  {
   "cell_type": "markdown",
   "id": "f997197a",
   "metadata": {},
   "source": [
    "### $\\color{brown}{\\text{0. Imports:}}$"
   ]
  },
  {
   "cell_type": "code",
   "execution_count": 22,
   "id": "6385c243",
   "metadata": {},
   "outputs": [],
   "source": [
    "import sys\n",
    "import os\n",
    "if sys.version_info >= (3, 6):\n",
    "    import zipfile\n",
    "else:\n",
    "    import zipfile36 as zipfile\n",
    "\n",
    "from PIL import Image\n",
    "import pytesseract\n",
    "import cv2 as cv\n",
    "import numpy as np\n",
    "\n",
    "# loading the face detection classifier\n",
    "face_cascade = cv.CascadeClassifier('readonly/haarcascade_frontalface_default.xml')\n"
   ]
  },
  {
   "cell_type": "markdown",
   "id": "f49d451f",
   "metadata": {},
   "source": [
    "***"
   ]
  },
  {
   "cell_type": "markdown",
   "id": "436e3725",
   "metadata": {},
   "source": [
    "# $\\color{brown}{\\text{1. First Read ZipFile:}}$"
   ]
  },
  {
   "cell_type": "code",
   "execution_count": 23,
   "id": "743f632f",
   "metadata": {
    "scrolled": true
   },
   "outputs": [
    {
     "name": "stdout",
     "output_type": "stream",
     "text": [
      "File Name                                             Modified             Size\n",
      "a-0.png                                        2019-02-26 22:30:30     21000053\n",
      "a-1.png                                        2019-02-26 22:30:28     22598429\n",
      "a-2.png                                        2019-02-26 22:30:28      3650049\n",
      "a-3.png                                        2019-02-26 22:30:30     18646538\n"
     ]
    }
   ],
   "source": [
    "Test_Data = zipfile.ZipFile('small_img.zip')\n",
    "Test_List = Test_Data.infolist()\n",
    "Test_Data.printdir()"
   ]
  },
  {
   "cell_type": "code",
   "execution_count": null,
   "id": "2293aee2",
   "metadata": {},
   "outputs": [],
   "source": [
    "Dict_Data = {}\n",
    "for i in range(len(Test_List)):\n",
    "    display(Image.open(Test_Data.open(Test_List[i])))\n",
    "    print(Test_Data.namelist()[i])\n",
    "    Dict_Data[Test_Data.namelist()[i]] = Image.open(Test_Data.open(Test_List[i]))#Store in a Dict"
   ]
  },
  {
   "cell_type": "markdown",
   "id": "7376f1f0",
   "metadata": {},
   "source": [
    "# $\\color{brown}{\\text{2. then Addup Text read and bounding rectangles:}}$"
   ]
  },
  {
   "cell_type": "code",
   "execution_count": 85,
   "id": "ecbccd96",
   "metadata": {
    "scrolled": true
   },
   "outputs": [],
   "source": [
    "#import pytesseract\n",
    "#List_Data = []\n",
    "#for i in range(len(Dict_Data)):\n",
    "#    List_Data.append([])\n",
    "#    for value, index in Dict_Data.items():\n",
    "#        List_Data[i].append(value)\n",
    "#        index = index.convert('L')\n",
    "#        #index.save(f'gray_scale{value}.jpg')#save\n",
    "#        pytesseract.pytesseract.tesseract_cmd=r'C:\\Program Files\\Tesseract-OCR\\tesseract.exe'\n",
    "#        text = pytesseract.image_to_string(index).replace('-\\n','') \n",
    "#        List_Data[i].append(text)\n"
   ]
  },
  {
   "cell_type": "code",
   "execution_count": 8,
   "id": "9b34874e",
   "metadata": {},
   "outputs": [],
   "source": [
    "#list that contains the images names\n",
    "pages_list = list(Dict_Data.keys())\n",
    "\n",
    "Source_List=[]\n",
    "for name in pages_list:\n",
    "    temp_list=[] # [ name of the page , text ] \n",
    "    temp_list.append(name)\n",
    "    #Now That we have page names, let's go for Images and extract thair textes.\n",
    "    img = Image.open('small_img/'+name)\n",
    "    pytesseract.pytesseract.tesseract_cmd=r'C:\\Program Files\\Tesseract-OCR\\tesseract.exe'\n",
    "    temp_list.append(pytesseract.image_to_string(img).replace('-\\n',''))\n",
    "    #Now we add this image and text as a list to the source_List\n",
    "    Source_List.append(temp_list)"
   ]
  },
  {
   "cell_type": "code",
   "execution_count": 99,
   "id": "08b207b9",
   "metadata": {},
   "outputs": [],
   "source": [
    "#def search(list, platform):\n",
    "#    for i in range(len(list)):\n",
    "#        if list[i] == platform:\n",
    "#            return True\n",
    "#    return False"
   ]
  },
  {
   "cell_type": "code",
   "execution_count": 21,
   "id": "29889b20",
   "metadata": {
    "scrolled": true
   },
   "outputs": [],
   "source": [
    "#if search(Source_List[0],'JAMES'):\n",
    "#    print(\"EEEE\")\n",
    "#else:\n",
    "#    print(\"OOOO\")"
   ]
  },
  {
   "cell_type": "code",
   "execution_count": 16,
   "id": "26748d10",
   "metadata": {},
   "outputs": [
    {
     "data": {
      "text/plain": [
       "['a-0.png',\n",
       " \"Che Michigan Daily\\n\\nAnn Arbor, Michigan\\n\\nWednesday, November 5, 2014\\n\\nmichigandaily.com\\n\\nBIG DAY FOR REPUBLICANS\\n\\nSNYDER EARNS SECOND TERM; G.O.P. TAKES CONTROL OF U.S. SENATE\\n\\nSTATE\\n\\nEXECUTIVE\\nGOVERNOR\\nRick Snyder (R)\\n\\nLIEUTENANT\\nGOVERNOR\\nBrian Calley (R)\\n\\nSECRETARY OF\\nSTATE\\nRuth Johnson (R)\\n\\nSTATE\\nJUDICIAL\\n\\nATTORNEY GENERAL\\nBill Schuette CR)\\n\\nMICHIGAN\\nLEGISLATIVE\\n\\nMICHIGAN STATE\\nSENATE\\nRebekah Warren (D)\\n\\nMICHIGAN HOUSE\\nOF REPRESENTATIVES\\nJeff Irwin CD)\\n\\nU.S.\\nLEGISLATIVE\\n\\nU.S. SENATE\\nGary Peters (D)\\n\\nU.S. HOUSE OF\\nREPRESENTATIVES\\nDebbie Dingell (D)\\n\\nWASHTENAW\\nCOUNTY\\n\\nPROBATE COURT\\nJulia Owdziej (D)\\n\\nCIRCUIT COURT\\nPatrick Conlin (D)\\n\\nANN ARBOR\\nMAYOR\\nChristopher Taylor (D)\\n\\nCITY COUNCIL\\n\\nSumi Kailasapathy (D)\\nChuck Warpehoski (D)\\nJulie Grand (D)\\nGraydon Kraphol (D)\\nKirk Westphal (D)\\n\\nREGENTS\\n\\nToo close to call\\n\\nHI: 51\\nLO: 30\\n\\nWEATHER\\nTOMORROW\\n\\n‘ali a\\n\\nTOP: Republican Gov. Rick Snyder celebrates after being reelected to a second term at the Renaissance Center in Detroit JAMES COLLER/Daily).\\n\\nBOTTOM LEFT: U.S. Senator-elect Gary Peters (D) celebrates after being elected to his first term at the MGM Grand Detroi\\n\\n(AMANDA ALLEN/ Daily).\\n\\nBOTTOM RIGHT: Attorney General Bill Schuette (R) addresses attendees at the Michigan Republican Party's watch party (JAMES COLLER/ Daily).\\n\\nSnyder reelected\\nto second term\\n\\nBy nearly five point\\nmargin, governor\\nrides on record to\\n\\ndefeat Schauer\\n\\nBy BEN ATLAS\\nDaily Staff Reporter\\n\\nMichigan voters have granted\\nfour more years to the “nerd.”\\nRepublican Gov. Rick Snyder\\nwon reelection Tuesday, defeating Democratic challenger Mark\\nSchauer ina closer-than-expected campaign.\\n\\nWith most precincts in the\\nstate reporting, Snyder captured\\n51 percent of the vote compared\\nto Schauer’s 47 percent. In the\\nlast few days before the election,\\nSnyder and Schauer were close\\nin the polls with the Detroit Free\\nPress reporting a two-point lead\\nin Snyder’s favor on Oct. 29.\\n\\nIn his victory speech at the\\nRenaissance Center in Detroit\\nTuesday night, Snyder emphasized the economic trouble the\\nstate had long endured and his\\nefforts to fundamentally change\\nits course.\\n\\n“Our spirit was being broken,”\\n\\nSnyder said. “It was not the time\\nto fix Michigan; that was not\\ngoing to be good enough. It was\\ntime to reinvent Michigan.”\\n\\nIn his speech, Snyder said\\nthere was plenty of evidence of\\nan economic turnaround. He\\npointed to the creation of nearly\\n300,000 private sector jobs, the\\nincrease in the value of Michigan homes and the greater number of college graduates taking\\njobs in the state as indicators of\\nsuccess.\\n\\nYet despite Snyder’s belief\\nin the success of his first term,\\nhe maintained there was much\\nwork to be done in the next four\\nyears.\\n\\n“When you have success like\\nthis what’s the next thing you\\nneed to do? It’s not to stay complacent, it’s time to accelerate\\nand go even faster,” Snyder said.\\n\\nSnyder hinted at some of\\nhis goals for his second term,\\nlike filling tens of thousands of\\nskilled trade jobs, helping young\\npeople connect with education\\nopportunities and improving\\naccess to career technical education, all of which he hopes will\\nlead to more well-paying middle\\nclass jobs.\\n\\nFour years after running on\\n\\na pledge to reinvent Michigan’s\\neconomy, Snyder was able to\\nsecure a second term largely\\non his fulfillment of that promise. His supporters point to his\\nhands-on approach to Detroit’s\\nrecovery as a signature accomplishment of his first term. The\\nstate legislature, the city and its\\ncreditors and pensioners struck\\na Grand Bargain that allowed\\nthe city to move ahead with its\\nbankruptcy proceedings, which\\nwill wrap up this month.\\n\\nOn higher education, Snyder\\ncut state funding in 2011 with\\nthe promise to raise it again in\\nsubsequent years. He has incrementally increased the funding\\nbut has yet to return it to the 2011\\nlevels. Consequently, Schauer\\nattempted to brand himself as\\nthe “education governor” in his\\ncampaign, calling for its funding\\nto be restored to pre-2011 levels\\nupon election to office.\\n\\nIn terms of the statewide\\neconomy, Snyder repealed the\\nMichigan Business Tax and\\nreplaced it with a flat tax to\\nappeal to new businesses, and\\neach of his last two budgets\\nhave resulted in a surplus. Additionally, the state’s 7.2-percent\\n\\nSee SNYDER, Page 4A\\n\\nIn dark day\\n\\nDemocratic U.S. Detroit following her concession.\\n\\nSenate candidate Peters will succeed fellow\\n\\n. Democrat Carl Levin, who has\\n\\nbucks national served in the U.S. Senate for\\n\\nmore than 35 years. The seat\\n\\ntr end was originally expected to be\\n\\nhotly contested and potentially\\n\\nBy SHOHAM GEVA a key race to determine which\\n\\nDaily Staff Reporter\\n\\nU.S. House Rep. Gary Peters\\n(D-Detroit) will be the next\\nU.S Senator from Michigan.\\n\\nPeters, who has served in the\\nU.S House of Representatives\\nfor five years, faced off against\\nTerri Lynn Land, former\\nMichigan Secretary of State.\\nThe race was called by CNN\\nand the Detroit Free Press at 9\\np.m, and as of press time early\\nWednesday morning with 95\\npercent of precincts reporting,\\nPeters led Land 55 percent to\\n41 percent.\\n\\nMinutes after Peters’ projected win was announced,\\nLand called Peters to concede.\\nShe did not release a statement,\\ntalk to the press or speak to\\nthe Republican watch party in\\n\\nparty would be the overall\\nmajority in the Senate.\\n\\nHowever, Peters, who maintained a slight lead in the polls\\nover Land throughout much\\nof the general election season,\\npulled away from his opponent\\nsignificantly by the last quarter of the race to a double-digit\\nlead.\\n\\n“Michigan was obviously a\\nsquandered opportunity for\\nthe Republicans,” Political\\nScience Prof. Michael Traugott said Tuesday night. “Her\\ncampaign got off to a bad start\\nbecause of the initial interaction with the media, so her\\ncampaign team decided to\\nhide her from reporters and\\nrestricted her access to voters\\nat public events, so she never\\n\\nSee PETERS, Page 4A\\n\\nNEW ON MICHIGANDAILY.COM\\nThe Working Ethic: College ethics 101\\nMICHIGANDAILY.COM/BLOGS\\n\\nGOT A NEWS TIP? INDEX\\nCall 734-418-4115 or e-mail\\n\\nnews@michigandaily.com and let us know.\\n\\nVol. CXXIV, No. 23\\n©2014 The Michigan Daily\\nmichigandaily.com\\n\\nNEWS. 2A SPORTS... eee 7A\\nSUDOKU... 2A CLASSIFIEDS... 6A\\nOPINION... 3A THESTATEMENT........... 1B\\n\"]"
      ]
     },
     "execution_count": 16,
     "metadata": {},
     "output_type": "execute_result"
    }
   ],
   "source": [
    "Source_List[0]"
   ]
  },
  {
   "cell_type": "code",
   "execution_count": 15,
   "id": "d7e1c307",
   "metadata": {},
   "outputs": [
    {
     "data": {
      "text/plain": [
       "False"
      ]
     },
     "execution_count": 15,
     "metadata": {},
     "output_type": "execute_result"
    }
   ],
   "source": [
    "'Arbor' in Source_List[0]"
   ]
  },
  {
   "cell_type": "markdown",
   "id": "a723e0a1",
   "metadata": {},
   "source": []
  },
  {
   "cell_type": "code",
   "execution_count": null,
   "id": "32e9a5fc",
   "metadata": {},
   "outputs": [],
   "source": []
  },
  {
   "cell_type": "code",
   "execution_count": null,
   "id": "a7ecafcc",
   "metadata": {},
   "outputs": [],
   "source": []
  },
  {
   "cell_type": "code",
   "execution_count": null,
   "id": "4cc33e59",
   "metadata": {},
   "outputs": [],
   "source": []
  },
  {
   "cell_type": "code",
   "execution_count": null,
   "id": "a753a958",
   "metadata": {},
   "outputs": [],
   "source": []
  },
  {
   "cell_type": "code",
   "execution_count": null,
   "id": "6c6de1d3",
   "metadata": {},
   "outputs": [],
   "source": []
  },
  {
   "cell_type": "code",
   "execution_count": null,
   "id": "697364ca",
   "metadata": {},
   "outputs": [],
   "source": []
  },
  {
   "cell_type": "code",
   "execution_count": null,
   "id": "08ed69aa",
   "metadata": {},
   "outputs": [],
   "source": []
  },
  {
   "cell_type": "code",
   "execution_count": null,
   "id": "fc3699fd",
   "metadata": {},
   "outputs": [],
   "source": []
  },
  {
   "cell_type": "code",
   "execution_count": null,
   "id": "105ba801",
   "metadata": {},
   "outputs": [],
   "source": []
  },
  {
   "cell_type": "code",
   "execution_count": null,
   "id": "97279d3f",
   "metadata": {},
   "outputs": [],
   "source": []
  },
  {
   "cell_type": "code",
   "execution_count": null,
   "id": "4d06a37f",
   "metadata": {},
   "outputs": [],
   "source": []
  },
  {
   "cell_type": "code",
   "execution_count": null,
   "id": "5effead1",
   "metadata": {},
   "outputs": [],
   "source": []
  },
  {
   "cell_type": "code",
   "execution_count": null,
   "id": "726a53de",
   "metadata": {},
   "outputs": [],
   "source": []
  },
  {
   "cell_type": "code",
   "execution_count": null,
   "id": "ac51fc07",
   "metadata": {},
   "outputs": [],
   "source": []
  },
  {
   "cell_type": "code",
   "execution_count": null,
   "id": "65b71502",
   "metadata": {},
   "outputs": [],
   "source": []
  },
  {
   "cell_type": "code",
   "execution_count": null,
   "id": "05993bfb",
   "metadata": {},
   "outputs": [],
   "source": []
  },
  {
   "cell_type": "code",
   "execution_count": null,
   "id": "ba65f74c",
   "metadata": {},
   "outputs": [],
   "source": []
  },
  {
   "cell_type": "code",
   "execution_count": null,
   "id": "cdd275f1",
   "metadata": {},
   "outputs": [],
   "source": []
  },
  {
   "cell_type": "code",
   "execution_count": null,
   "id": "38f907fe",
   "metadata": {},
   "outputs": [],
   "source": []
  },
  {
   "cell_type": "code",
   "execution_count": null,
   "id": "bab319e3",
   "metadata": {},
   "outputs": [],
   "source": []
  },
  {
   "cell_type": "code",
   "execution_count": null,
   "id": "21f75ada",
   "metadata": {},
   "outputs": [],
   "source": []
  },
  {
   "cell_type": "code",
   "execution_count": null,
   "id": "947bb915",
   "metadata": {},
   "outputs": [],
   "source": []
  },
  {
   "cell_type": "code",
   "execution_count": null,
   "id": "d555af0d",
   "metadata": {},
   "outputs": [],
   "source": []
  },
  {
   "cell_type": "code",
   "execution_count": null,
   "id": "55394ea5",
   "metadata": {},
   "outputs": [],
   "source": []
  },
  {
   "cell_type": "code",
   "execution_count": null,
   "id": "7b0f10e4",
   "metadata": {},
   "outputs": [],
   "source": []
  },
  {
   "cell_type": "code",
   "execution_count": null,
   "id": "5e1202f7",
   "metadata": {},
   "outputs": [],
   "source": []
  },
  {
   "cell_type": "code",
   "execution_count": null,
   "id": "ed4fb351",
   "metadata": {},
   "outputs": [],
   "source": []
  },
  {
   "cell_type": "code",
   "execution_count": null,
   "id": "a54d3abe",
   "metadata": {},
   "outputs": [],
   "source": []
  },
  {
   "cell_type": "code",
   "execution_count": null,
   "id": "22cf0094",
   "metadata": {},
   "outputs": [],
   "source": []
  },
  {
   "cell_type": "code",
   "execution_count": null,
   "id": "3bf8399a",
   "metadata": {},
   "outputs": [],
   "source": []
  }
 ],
 "metadata": {
  "kernelspec": {
   "display_name": "Python 3 (ipykernel)",
   "language": "python",
   "name": "python3"
  },
  "language_info": {
   "codemirror_mode": {
    "name": "ipython",
    "version": 3
   },
   "file_extension": ".py",
   "mimetype": "text/x-python",
   "name": "python",
   "nbconvert_exporter": "python",
   "pygments_lexer": "ipython3",
   "version": "3.10.4"
  }
 },
 "nbformat": 4,
 "nbformat_minor": 5
}
