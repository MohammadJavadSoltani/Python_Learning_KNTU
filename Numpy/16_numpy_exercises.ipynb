{
 "cells": [
  {
   "cell_type": "code",
   "execution_count": 24,
   "metadata": {},
   "outputs": [],
   "source": [
    "#imports\n",
    "import random\n",
    "import numpy as np\n"
   ]
  },
  {
   "cell_type": "markdown",
   "metadata": {},
   "source": [
    "### $\\color{brown}{\\text{1. Write a NumPy program to create a 5x5 array with random values and find the minimum and maximum values.}}$"
   ]
  },
  {
   "cell_type": "code",
   "execution_count": 25,
   "metadata": {},
   "outputs": [
    {
     "name": "stdout",
     "output_type": "stream",
     "text": [
      "max value in array is : 0.8029870854960437 \n",
      "and min value in array is : 0.05550893459714912\n"
     ]
    }
   ],
   "source": [
    "def rnd_np():\n",
    "    array = np.random.random((5,5))\n",
    "    return print(f\"max value in array is : {array.max()} \\nand min value in array is : {array.min()}\")\n",
    "rnd_np()"
   ]
  },
  {
   "cell_type": "markdown",
   "metadata": {},
   "source": [
    "### $\\color{brown}{\\text{2. Write a NumPy program to create a random 10x4 array and extract the first five rows of the array and store them into a variable.}}$"
   ]
  },
  {
   "cell_type": "code",
   "execution_count": 29,
   "metadata": {},
   "outputs": [
    {
     "name": "stdout",
     "output_type": "stream",
     "text": [
      "array is :\n",
      "[[0.84093016 0.93889356 0.2901604  0.41247283]\n",
      " [0.76509856 0.82857252 0.12773853 0.05746479]\n",
      " [0.91174996 0.90172632 0.66127631 0.46573372]\n",
      " [0.19240791 0.53890201 0.65423224 0.46499604]\n",
      " [0.76780958 0.76338005 0.98341446 0.47319473]\n",
      " [0.49306205 0.12418822 0.3460002  0.84331171]\n",
      " [0.48272206 0.18221715 0.76902449 0.84282405]\n",
      " [0.02708606 0.05162709 0.35973937 0.0394447 ]\n",
      " [0.09708468 0.54269503 0.28420288 0.53692842]\n",
      " [0.80905861 0.21614437 0.15947663 0.90785823]] \n",
      "\n",
      "\n",
      "and out_rray is :\n",
      "[[0.84093016 0.93889356 0.2901604  0.41247283]\n",
      " [0.76509856 0.82857252 0.12773853 0.05746479]\n",
      " [0.91174996 0.90172632 0.66127631 0.46573372]\n",
      " [0.19240791 0.53890201 0.65423224 0.46499604]\n",
      " [0.76780958 0.76338005 0.98341446 0.47319473]]\n"
     ]
    }
   ],
   "source": [
    "def np_first5():\n",
    "    array = np.random.random((10,4))\n",
    "    out_array = array[0:5,:]\n",
    "    return print(f\"array is :\\n{array} \\n\\n\\nand out_rray is :\\n{out_array}\")\n",
    "np_first5()"
   ]
  },
  {
   "cell_type": "markdown",
   "metadata": {},
   "source": [
    "### $\\color{brown}{\\text{3. Write a NumPy program to create random vector of size 15 and replace the maximum value by -1.}}$"
   ]
  },
  {
   "cell_type": "code",
   "execution_count": 79,
   "metadata": {},
   "outputs": [
    {
     "name": "stdout",
     "output_type": "stream",
     "text": [
      "array is :\n",
      "[ 0.73859464  0.53008712  0.1610477   0.31782427  0.61208835  0.10323458\n",
      "  0.21371894  0.87843459  0.61301712  0.88340526  0.22322823  0.44620502\n",
      "  0.12919245 -1.          0.81761633] \n",
      "\n",
      "\n",
      "and max value was :\n",
      "0.9290525601580838\n"
     ]
    }
   ],
   "source": [
    "def np_vec():\n",
    "    array = np.random.rand(15,)\n",
    "    arr_max = np.amax(array)\n",
    "    max_index = np.where(array == arr_max)\n",
    "    array[max_index] =-1\n",
    "    return print(f\"array is :\\n{array} \\n\\n\\nand max value was :\\n{arr_max}\")\n",
    "np_vec()"
   ]
  },
  {
   "cell_type": "markdown",
   "metadata": {},
   "source": [
    "### $\\color{brown}{\\text{4. normalize an array so the values range exactly between 0 and 1?}}$"
   ]
  },
  {
   "cell_type": "code",
   "execution_count": 99,
   "metadata": {
    "scrolled": true
   },
   "outputs": [
    {
     "data": {
      "text/plain": [
       "array([[0.17286432, 0.7819095 , 0.34170854, 0.7798995 , 0.90653265,\n",
       "        0.6532663 , 0.838191  , 0.24321608, 0.80703515, 0.9155779 ,\n",
       "        0.99798995, 0.42613065, 0.2281407 , 0.69849247, 0.4924623 ,\n",
       "        0.67336684, 0.14572865, 0.70954776, 0.919598  , 0.8110553 ,\n",
       "        0.14070351, 0.37386936, 0.26633167, 0.12361809, 0.5648241 ,\n",
       "        0.6934673 , 0.5567839 , 0.5417085 , 0.7668342 , 0.9778894 ,\n",
       "        0.4834171 , 0.6462312 , 0.680402  , 0.16381909, 0.16180904,\n",
       "        0.44723618, 0.1879397 , 0.89045227, 0.9889447 , 0.55175877,\n",
       "        0.7266332 , 0.17688443, 0.18090452, 0.69949746, 1.        ,\n",
       "        0.23819095, 0.89447236, 0.37386936, 0.43618092, 0.23718593,\n",
       "        0.50351757, 0.60301507, 0.9447236 , 0.75075376, 0.2713568 ,\n",
       "        0.9718593 , 0.33869347, 0.2120603 , 0.10552764, 0.09949749,\n",
       "        0.07035176, 0.6683417 , 0.48241207, 0.18693468, 0.53266335,\n",
       "        0.9035176 , 0.8753769 , 0.8934673 , 0.14974874, 0.5457286 ,\n",
       "        0.0040201 , 0.16984925, 0.44623116, 0.23417085, 0.0241206 ,\n",
       "        0.91457283, 0.38291457, 0.16180904, 0.05628141, 0.07738694,\n",
       "        0.20301507, 0.82211053, 0.4884422 , 0.58090454, 0.9306533 ,\n",
       "        0.3798995 , 0.51356786, 0.08341709, 0.3638191 , 0.84221107,\n",
       "        0.8773869 , 0.6190955 , 0.30150753, 0.9286432 , 0.9085427 ,\n",
       "        0.9045226 , 0.6482412 , 0.7517588 , 0.15276381, 0.72160804]],\n",
       "      dtype=float32)"
      ]
     },
     "execution_count": 99,
     "metadata": {},
     "output_type": "execute_result"
    }
   ],
   "source": [
    "array = np.random.randint(0, 1000, (1, 100))\n",
    "def My_Normal(arr):\n",
    "    arr = arr.astype(np.float32)\n",
    "    max_val = arr.max()\n",
    "    for i in range(arr.shape[1]):\n",
    "        arr[0,i] = arr[0,i] / max_val\n",
    "    return arr\n",
    "My_Normal(array)"
   ]
  },
  {
   "cell_type": "markdown",
   "metadata": {},
   "source": [
    "### $\\color{brown}{\\text{5. convert an nd array of arrays into a flat 1d array}}$"
   ]
  },
  {
   "cell_type": "code",
   "execution_count": 118,
   "metadata": {},
   "outputs": [
    {
     "data": {
      "text/plain": [
       "array([45, 38, 40, 71, 40,  9, 85, 28, 81, 80, 21, 10, 32, 63, 13, 62, 22,\n",
       "       12, 63, 99, 11, 95,  9, 68, 62,  7, 28, 42, 61, 53, 94,  5, 82, 48,\n",
       "       16, 95, 12, 49, 64, 31, 94, 24, 66, 39, 93, 65, 27, 33, 69, 81, 74,\n",
       "       53, 54, 13, 83, 35, 81, 97, 65, 50, 89, 47,  7, 82, 51, 84,  9, 14,\n",
       "       32, 16, 37, 48, 28, 57,  9, 85, 18,  5, 62, 66, 51, 29, 89, 60, 87,\n",
       "        8,  7, 55, 16, 87, 43, 81, 45, 48, 66, 12, 60, 60, 74, 82, 16, 94,\n",
       "       98, 15, 46, 29, 75, 92,  7, 82, 45, 76, 18, 73, 10, 31, 69, 28, 41,\n",
       "       96, 48, 25, 74, 86, 11, 39, 23, 86, 57, 83, 89, 81, 87, 32, 72, 52,\n",
       "       93, 14, 32, 37, 35, 36, 47, 20, 44, 35, 18, 56,  9, 62, 55, 14, 64,\n",
       "       62, 99,  4, 24, 55, 48, 96, 59, 83, 74, 67, 36, 28, 17, 20, 79, 17,\n",
       "       93, 78, 16, 42, 66,  5, 48, 58, 56, 78, 16, 66, 35,  8, 72, 71, 18,\n",
       "       92, 97, 97, 32, 40, 23, 44, 58, 90, 58, 68, 14, 93])"
      ]
     },
     "execution_count": 118,
     "metadata": {},
     "output_type": "execute_result"
    }
   ],
   "source": [
    "array = np.random.randint(4, 100, (5, 40))\n",
    "def arr2flat(arr):\n",
    "    my_out = arr.flatten()\n",
    "    return my_out\n",
    "arr2flat(array)"
   ]
  },
  {
   "cell_type": "markdown",
   "metadata": {},
   "source": [
    "### $\\color{brown}{\\text{6. from 2010 to 2018 group weekdays and weekends in two lists\n",
    "}}$\n",
    "notes: you are allowed to just use datetime or numpy datetime"
   ]
  },
  {
   "cell_type": "code",
   "execution_count": 152,
   "metadata": {},
   "outputs": [
    {
     "name": "stdout",
     "output_type": "stream",
     "text": [
      "(2919,)\n",
      "(417, 7)\n",
      "\n",
      "\n",
      "lst_weekdays :[array(['2010-01-04', '2010-01-05', '2010-01-06', '2010-01-07',\n",
      "       '2010-01-08', '2010-01-09'], dtype='datetime64[D]'), array(['2010-01-11', '2010-01-12', '2010-01-13', '2010-01-14',\n",
      "       '2010-01-15', '2010-01-16'], dtype='datetime64[D]'), array(['2010-01-18', '2010-01-19', '2010-01-20', '2010-01-21',\n",
      "       '2010-01-22', '2010-01-23'], dtype='datetime64[D]')]\n",
      "\n",
      "\n",
      "lst_weekends number :[numpy.datetime64('2010-01-10'), numpy.datetime64('2010-01-17'), numpy.datetime64('2010-01-24')]\n"
     ]
    }
   ],
   "source": [
    "date_time_range = np.arange(np.datetime64('2010-01-04'), np.datetime64('2018-01-01'))#2010-01-04 is Firs Monday!\n",
    "print(date_time_range.shape)\n",
    "\n",
    "every_week = int(date_time_range.shape[0]/7)#Number of weekends.\n",
    "date_time_range2 = date_time_range.reshape((every_week, 7))#Reshape to form af a week.\n",
    "print(date_time_range2.shape)\n",
    "\n",
    "lst_weekdays = list(date_time_range2[:,0:6])\n",
    "lst_weekends = list(date_time_range2[:, 6])\n",
    "print(f\"\\n\\nlst_weekdays :{lst_weekdays[0:3]}\")\n",
    "print(f\"\\n\\nlst_weekends number :{lst_weekends[0:3]}\")"
   ]
  },
  {
   "cell_type": "markdown",
   "metadata": {},
   "source": [
    "### $\\color{brown}{\\text{7. Considering a four dimensions array, how to get sum over the last two axis at once?}}$"
   ]
  },
  {
   "cell_type": "code",
   "execution_count": 163,
   "metadata": {},
   "outputs": [
    {
     "data": {
      "text/plain": [
       "array([[ 7.1965347 ,  9.80769675,  7.296669  ,  8.25844835,  8.55440141],\n",
       "       [ 7.27790451,  7.53464222,  8.26573283,  7.02734092,  6.60904345],\n",
       "       [10.77770894, 11.0795011 ,  7.68595529,  6.53269135,  8.42660283],\n",
       "       [ 8.03435887,  6.17682694,  8.82155401,  8.60510732,  9.50419551]])"
      ]
     },
     "execution_count": 163,
     "metadata": {},
     "output_type": "execute_result"
    }
   ],
   "source": [
    "import numpy as np\n",
    "array = np.random.random((4, 5, 8, 2))\n",
    "array\n",
    "# answer\n",
    "sum = array.sum(axis=(-2,-1))#Last 2 axis are -1 , -2\n",
    "sum"
   ]
  },
  {
   "cell_type": "markdown",
   "metadata": {},
   "source": [
    "### $\\color{brown}{\\text{8. Consider 2 points p0, p1 describing a line (2d) and a point p, how to compute distance from p to this line?}}$"
   ]
  },
  {
   "cell_type": "code",
   "execution_count": 215,
   "metadata": {
    "scrolled": true
   },
   "outputs": [
    {
     "data": {
      "text/plain": [
       "array([7.71164481])"
      ]
     },
     "execution_count": 215,
     "metadata": {},
     "output_type": "execute_result"
    },
    {
     "data": {
      "image/png": "[encoded data removed]",
      "text/plain": [
       "<Figure size 432x288 with 1 Axes>"
      ]
     },
     "metadata": {
      "needs_background": "light"
     },
     "output_type": "display_data"
    }
   ],
   "source": [
    "import matplotlib.pyplot as plt\n",
    "\n",
    "def distance(p0, p1, p):\n",
    "    \n",
    "    d=np.cross(p1-p0,p-p0)/np.linalg.norm(p1-p0)\n",
    "    px = [p0[0,0],p1[0,0]]\n",
    "    py = [p0[0,1],p1[0,1]]\n",
    "    plt.scatter(px,py,alpha=0.8, cmap='viridis')\n",
    "    plt.scatter(p[0,0],p[0,1],alpha=0.8, cmap='viridis')\n",
    "    return d\n",
    "\n",
    "p0 = np.random.uniform(-10, 10, (1, 2))\n",
    "p1 = np.random.uniform(-10, 10, (1, 2))\n",
    "p  = np.random.uniform(-10, 10, (1, 2))\n",
    "distance(p0, p1, p)\n"
   ]
  },
  {
   "cell_type": "markdown",
   "metadata": {},
   "source": [
    "For more exercises check the following link:\n",
    "https://github.com/rougier/numpy-100/blob/master/100_Numpy_exercises.ipynb"
   ]
  },
  {
   "cell_type": "markdown",
   "metadata": {},
   "source": [
    "*:)*"
   ]
  }
 ],
 "metadata": {
  "kernelspec": {
   "display_name": "Python 3 (ipykernel)",
   "language": "python",
   "name": "python3"
  },
  "language_info": {
   "codemirror_mode": {
    "name": "ipython",
    "version": 3
   },
   "file_extension": ".py",
   "mimetype": "text/x-python",
   "name": "python",
   "nbconvert_exporter": "python",
   "pygments_lexer": "ipython3",
   "version": "3.10.4"
  }
 },
 "nbformat": 4,
 "nbformat_minor": 2
}
